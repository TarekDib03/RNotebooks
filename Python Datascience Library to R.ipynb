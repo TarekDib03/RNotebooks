{
 "cells": [
  {
   "cell_type": "markdown",
   "metadata": {},
   "source": [
    "## Conversion Notebook: Mapping from From Data 8X's `datascience` to R"
   ]
  },
  {
   "cell_type": "markdown",
   "metadata": {},
   "source": [
    "Throughout Data 8X, we have been working a lot with the datascience library, a library created by faculty at UC Berkeley, specifically for this course. While this library is not used outside of this course, all of the ideas and concepts behind the library and the different functions are definitely used when dealing with data science problems in the real world. This notebook serves as an introduction to basic R terminology, data structures and commands. The functions introduced will be analogous to those in Berkeley's `datascience` module, with examples provided for each.\n",
    "\n",
    "We will cover the following topics in this notebook:\n",
    "1. Basics of R\n",
    "    - Importing and Loading Packages\n",
    "    - Arithmetic and Logical Operators\n",
    "    - Assigning Variables\n",
    "2. Dataframes: Storing Tabular Data\n",
    "    - Creating a Dataframe\n",
    "    - Accessing Values in Dataframe\n",
    "    - Manipulating Data\n",
    "3. Visualizing Data\n",
    "    - Histograms\n",
    "    - Line and Scatter Plots\n",
    "    - Bar Charts\n",
    "    \n",
    "For reference:\n",
    "\n",
    "Datascience documentation: http://data8.org/datascience/index.html\n",
    "\n",
    "http://data8.org/fa18/python-reference.html\n",
    "\n",
    "R documentation: https://www.rdocumentation.org/"
   ]
  },
  {
   "cell_type": "markdown",
   "metadata": {},
   "source": [
    "## 1. Basics of R"
   ]
  },
  {
   "cell_type": "markdown",
   "metadata": {},
   "source": [
    "R is a command line driven program. This means that the user can enter expressions, create variables and define functions and run them in the R console. In the Jupyter notebook interface, code chunks can be run as individual cells either by clicking on 'Run' in the toolbar above or using the shortcut keys `shift + enter`\n",
    "<br>"
   ]
  },
  {
   "cell_type": "markdown",
   "metadata": {},
   "source": [
    "### 1.1 Importing and Loading Packages"
   ]
  },
  {
   "cell_type": "markdown",
   "metadata": {},
   "source": [
    "In Python, we use the following syntax to install packages:\n",
    "```python\n",
    "!pip install datascience\n",
    "```\n",
    "And we load them using:\n",
    "```python\n",
    "import numpy as np\n",
    "from datascience import Table\n",
    "```\n",
    "\n",
    "In R, we use `install.packages('package_name')` to install new packages from the CRAN repository. For a full list of available packages, refer to https://cran.r-project.org/web/packages/available_packages_by_name.html\n",
    "\n",
    "It is not necessary to reinstall packages everytime we quit or reload an R session. Once we have a package installed, we can load it using `library('package_name')`."
   ]
  },
  {
   "cell_type": "code",
   "execution_count": 1,
   "metadata": {},
   "outputs": [
    {
     "name": "stdout",
     "output_type": "stream",
     "text": [
      "package 'ggplot2' successfully unpacked and MD5 sums checked\n",
      "\n",
      "The downloaded binary packages are in\n",
      "\tC:\\Users\\Tarek\\AppData\\Local\\Temp\\Rtmpc1fSZY\\downloaded_packages\n"
     ]
    }
   ],
   "source": [
    "# Install ggplot2 for data visualization\n",
    "install.packages(\"ggplot2\")"
   ]
  },
  {
   "cell_type": "code",
   "execution_count": 2,
   "metadata": {},
   "outputs": [],
   "source": [
    "library(ggplot2)"
   ]
  },
  {
   "cell_type": "code",
   "execution_count": 3,
   "metadata": {},
   "outputs": [
    {
     "data": {
      "text/html": [
       "<ol class=list-inline>\n",
       "\t<li>1</li>\n",
       "\t<li>2</li>\n",
       "\t<li>3</li>\n",
       "\t<li>4</li>\n",
       "\t<li>5</li>\n",
       "\t<li>6</li>\n",
       "</ol>\n"
      ],
      "text/latex": [
       "\\begin{enumerate*}\n",
       "\\item 1\n",
       "\\item 2\n",
       "\\item 3\n",
       "\\item 4\n",
       "\\item 5\n",
       "\\item 6\n",
       "\\end{enumerate*}\n"
      ],
      "text/markdown": [
       "1. 1\n",
       "2. 2\n",
       "3. 3\n",
       "4. 4\n",
       "5. 5\n",
       "6. 6\n",
       "\n",
       "\n"
      ],
      "text/plain": [
       "[1] 1 2 3 4 5 6"
      ]
     },
     "metadata": {},
     "output_type": "display_data"
    }
   ],
   "source": [
    "# vectors\n",
    "a <- c(1,2,3)\n",
    "b <- c(4,5,6)\n",
    "ab <- c(a, b)\n",
    "ab"
   ]
  },
  {
   "cell_type": "code",
   "execution_count": 5,
   "metadata": {},
   "outputs": [
    {
     "data": {
      "text/html": [
       "<ol class=list-inline>\n",
       "\t<li>1</li>\n",
       "\t<li>2</li>\n",
       "\t<li>3</li>\n",
       "\t<li>4</li>\n",
       "\t<li>5</li>\n",
       "\t<li>6</li>\n",
       "\t<li>7</li>\n",
       "\t<li>8</li>\n",
       "\t<li>9</li>\n",
       "</ol>\n"
      ],
      "text/latex": [
       "\\begin{enumerate*}\n",
       "\\item 1\n",
       "\\item 2\n",
       "\\item 3\n",
       "\\item 4\n",
       "\\item 5\n",
       "\\item 6\n",
       "\\item 7\n",
       "\\item 8\n",
       "\\item 9\n",
       "\\end{enumerate*}\n"
      ],
      "text/markdown": [
       "1. 1\n",
       "2. 2\n",
       "3. 3\n",
       "4. 4\n",
       "5. 5\n",
       "6. 6\n",
       "7. 7\n",
       "8. 8\n",
       "9. 9\n",
       "\n",
       "\n"
      ],
      "text/plain": [
       "[1] 1 2 3 4 5 6 7 8 9"
      ]
     },
     "metadata": {},
     "output_type": "display_data"
    }
   ],
   "source": [
    "# Creating a sequence\n",
    "seq1 <- seq(1,9)\n",
    "seq1"
   ]
  },
  {
   "cell_type": "code",
   "execution_count": 7,
   "metadata": {},
   "outputs": [
    {
     "data": {
      "text/html": [
       "<ol class=list-inline>\n",
       "\t<li>1</li>\n",
       "\t<li>3</li>\n",
       "\t<li>5</li>\n",
       "\t<li>7</li>\n",
       "</ol>\n"
      ],
      "text/latex": [
       "\\begin{enumerate*}\n",
       "\\item 1\n",
       "\\item 3\n",
       "\\item 5\n",
       "\\item 7\n",
       "\\end{enumerate*}\n"
      ],
      "text/markdown": [
       "1. 1\n",
       "2. 3\n",
       "3. 5\n",
       "4. 7\n",
       "\n",
       "\n"
      ],
      "text/plain": [
       "[1] 1 3 5 7"
      ]
     },
     "metadata": {},
     "output_type": "display_data"
    }
   ],
   "source": [
    "seq2 <- seq(1,8,2)\n",
    "seq2"
   ]
  },
  {
   "cell_type": "code",
   "execution_count": 8,
   "metadata": {},
   "outputs": [
    {
     "data": {
      "text/html": [
       "1"
      ],
      "text/latex": [
       "1"
      ],
      "text/markdown": [
       "1"
      ],
      "text/plain": [
       "[1] 1"
      ]
     },
     "metadata": {},
     "output_type": "display_data"
    }
   ],
   "source": [
    "# In R, indexing starts at 1. In python, it starts in 0\n",
    "seq1[1]"
   ]
  },
  {
   "cell_type": "markdown",
   "metadata": {},
   "source": [
    "## 2. Dataframes: Storing Tabular Data"
   ]
  },
  {
   "cell_type": "markdown",
   "metadata": {},
   "source": [
    "In Python's `datascience` module, we used `Table` to build our dataframes and used commands such as `select()`, `where()`, `group()`, `column()` etc. In this section, we will go over some basic commands to work with tabular data in R using Dataframes."
   ]
  },
  {
   "cell_type": "markdown",
   "metadata": {},
   "source": [
    "In Python's `datascience` module that is used in Data 8, this is how we created tables from scratch by extending an empty table:\n",
    "```python\n",
    "t = Table().with_columns([\n",
    "     'letter', ['a', 'b', 'c', 'z'],\n",
    "     'count',  [  9,   3,   3,   1],\n",
    "     'points', [  1,   2,   2,  10],\n",
    " ])\n",
    "```\n",
    "<br> \n",
    "In `pandas` moudule, we create a dataframe as follows:\n",
    "```python\n",
    "import pandas as pd\n",
    "df = pd.DataFrame({'letter': [\"a\", \"b\", \"c\", \"z\"], 'count': [9, 3, 3, 1], 'points': [1, 2, 2, 10]})```\n",
    "\n",
    "In R, we can initialize a dataframe using `data.frame()`. For a full list of parameters and options, refer to [this guide](https://www.rdocumentation.org/packages/base/versions/3.5.0/topics/data.frame)\n",
    "\n",
    "When not specified, the function `data.frame` will coerce all character variables to factors. If you want to keep the strings as character variables, you need to specify `stringsAsFactors = FALSE`."
   ]
  },
  {
   "cell_type": "code",
   "execution_count": 9,
   "metadata": {},
   "outputs": [
    {
     "data": {
      "text/html": [
       "<table>\n",
       "<thead><tr><th scope=col>letter</th><th scope=col>count</th><th scope=col>points</th></tr></thead>\n",
       "<tbody>\n",
       "\t<tr><td>a </td><td>9 </td><td> 1</td></tr>\n",
       "\t<tr><td>b </td><td>3 </td><td> 2</td></tr>\n",
       "\t<tr><td>c </td><td>3 </td><td> 2</td></tr>\n",
       "\t<tr><td>z </td><td>1 </td><td>10</td></tr>\n",
       "</tbody>\n",
       "</table>\n"
      ],
      "text/latex": [
       "\\begin{tabular}{r|lll}\n",
       " letter & count & points\\\\\n",
       "\\hline\n",
       "\t a  & 9  &  1\\\\\n",
       "\t b  & 3  &  2\\\\\n",
       "\t c  & 3  &  2\\\\\n",
       "\t z  & 1  & 10\\\\\n",
       "\\end{tabular}\n"
      ],
      "text/markdown": [
       "\n",
       "| letter | count | points |\n",
       "|---|---|---|\n",
       "| a  | 9  |  1 |\n",
       "| b  | 3  |  2 |\n",
       "| c  | 3  |  2 |\n",
       "| z  | 1  | 10 |\n",
       "\n"
      ],
      "text/plain": [
       "  letter count points\n",
       "1 a      9      1    \n",
       "2 b      3      2    \n",
       "3 c      3      2    \n",
       "4 z      1     10    "
      ]
     },
     "metadata": {},
     "output_type": "display_data"
    }
   ],
   "source": [
    "# example: creating a dataframe in R\n",
    "t <- data.frame(letter = c('a', 'b', 'c', 'z'),\n",
    "                count = c(9, 3, 3, 1),\n",
    "                points = c(1, 2, 2, 10),\n",
    "                stringsAsFactors = FALSE\n",
    "               )\n",
    "t"
   ]
  },
  {
   "cell_type": "markdown",
   "metadata": {},
   "source": [
    "More often, we will need to create a dataframe by importing data from a .csv file. In R, we can use `read.csv()` to read data from a csv file. There are a lot of different parameters that we can specify based on the data that we are importing into our environment (related to the header, column names, etc). For a full list of parameters, refer to [this guide](https://www.rdocumentation.org/packages/utils/versions/3.5.0/topics/read.table)"
   ]
  },
  {
   "cell_type": "code",
   "execution_count": 12,
   "metadata": {},
   "outputs": [
    {
     "data": {
      "text/html": [
       "<table>\n",
       "<thead><tr><th scope=col>geo</th><th scope=col>time</th><th scope=col>extreme_poverty_percent_people_below_125_a_day</th></tr></thead>\n",
       "<tbody>\n",
       "\t<tr><td>alb </td><td>1996</td><td>0.20</td></tr>\n",
       "\t<tr><td>alb </td><td>2002</td><td>0.73</td></tr>\n",
       "\t<tr><td>alb </td><td>2004</td><td>0.53</td></tr>\n",
       "\t<tr><td>alb </td><td>2005</td><td>0.44</td></tr>\n",
       "\t<tr><td>alb </td><td>2008</td><td>0.20</td></tr>\n",
       "\t<tr><td>alb </td><td>2012</td><td>0.46</td></tr>\n",
       "</tbody>\n",
       "</table>\n"
      ],
      "text/latex": [
       "\\begin{tabular}{r|lll}\n",
       " geo & time & extreme\\_poverty\\_percent\\_people\\_below\\_125\\_a\\_day\\\\\n",
       "\\hline\n",
       "\t alb  & 1996 & 0.20\\\\\n",
       "\t alb  & 2002 & 0.73\\\\\n",
       "\t alb  & 2004 & 0.53\\\\\n",
       "\t alb  & 2005 & 0.44\\\\\n",
       "\t alb  & 2008 & 0.20\\\\\n",
       "\t alb  & 2012 & 0.46\\\\\n",
       "\\end{tabular}\n"
      ],
      "text/markdown": [
       "\n",
       "| geo | time | extreme_poverty_percent_people_below_125_a_day |\n",
       "|---|---|---|\n",
       "| alb  | 1996 | 0.20 |\n",
       "| alb  | 2002 | 0.73 |\n",
       "| alb  | 2004 | 0.53 |\n",
       "| alb  | 2005 | 0.44 |\n",
       "| alb  | 2008 | 0.20 |\n",
       "| alb  | 2012 | 0.46 |\n",
       "\n"
      ],
      "text/plain": [
       "  geo time extreme_poverty_percent_people_below_125_a_day\n",
       "1 alb 1996 0.20                                          \n",
       "2 alb 2002 0.73                                          \n",
       "3 alb 2004 0.53                                          \n",
       "4 alb 2005 0.44                                          \n",
       "5 alb 2008 0.20                                          \n",
       "6 alb 2012 0.46                                          "
      ]
     },
     "metadata": {},
     "output_type": "display_data"
    }
   ],
   "source": [
    "poverty <- read.csv('C:/Users/Tarek/Documents/Data_Science/poverty.csv')\n",
    "head(poverty)"
   ]
  },
  {
   "cell_type": "code",
   "execution_count": 13,
   "metadata": {},
   "outputs": [
    {
     "data": {
      "text/plain": [
       "      geo           time      extreme_poverty_percent_people_below_125_a_day\n",
       " bra    : 28   Min.   :1978   Min.   : 0.00                                 \n",
       " cri    : 26   1st Qu.:1995   1st Qu.: 0.45                                 \n",
       " arg    : 23   Median :2002   Median : 4.40                                 \n",
       " hnd    : 23   Mean   :2000   Mean   :14.29                                 \n",
       " col    : 20   3rd Qu.:2007   3rd Qu.:17.40                                 \n",
       " ury    : 20   Max.   :2013   Max.   :94.64                                 \n",
       " (Other):959                                                                "
      ]
     },
     "metadata": {},
     "output_type": "display_data"
    }
   ],
   "source": [
    "summary(poverty)"
   ]
  },
  {
   "cell_type": "code",
   "execution_count": 16,
   "metadata": {},
   "outputs": [
    {
     "data": {
      "text/html": [
       "1099"
      ],
      "text/latex": [
       "1099"
      ],
      "text/markdown": [
       "1099"
      ],
      "text/plain": [
       "[1] 1099"
      ]
     },
     "metadata": {},
     "output_type": "display_data"
    },
    {
     "data": {
      "text/html": [
       "3"
      ],
      "text/latex": [
       "3"
      ],
      "text/markdown": [
       "3"
      ],
      "text/plain": [
       "[1] 3"
      ]
     },
     "metadata": {},
     "output_type": "display_data"
    },
    {
     "data": {
      "text/html": [
       "<ol class=list-inline>\n",
       "\t<li>1099</li>\n",
       "\t<li>3</li>\n",
       "</ol>\n"
      ],
      "text/latex": [
       "\\begin{enumerate*}\n",
       "\\item 1099\n",
       "\\item 3\n",
       "\\end{enumerate*}\n"
      ],
      "text/markdown": [
       "1. 1099\n",
       "2. 3\n",
       "\n",
       "\n"
      ],
      "text/plain": [
       "[1] 1099    3"
      ]
     },
     "metadata": {},
     "output_type": "display_data"
    },
    {
     "data": {
      "text/html": [
       "<ol class=list-inline>\n",
       "\t<li>'geo'</li>\n",
       "\t<li>'time'</li>\n",
       "\t<li>'extreme_poverty_percent_people_below_125_a_day'</li>\n",
       "</ol>\n"
      ],
      "text/latex": [
       "\\begin{enumerate*}\n",
       "\\item 'geo'\n",
       "\\item 'time'\n",
       "\\item 'extreme\\_poverty\\_percent\\_people\\_below\\_125\\_a\\_day'\n",
       "\\end{enumerate*}\n"
      ],
      "text/markdown": [
       "1. 'geo'\n",
       "2. 'time'\n",
       "3. 'extreme_poverty_percent_people_below_125_a_day'\n",
       "\n",
       "\n"
      ],
      "text/plain": [
       "[1] \"geo\"                                           \n",
       "[2] \"time\"                                          \n",
       "[3] \"extreme_poverty_percent_people_below_125_a_day\""
      ]
     },
     "metadata": {},
     "output_type": "display_data"
    }
   ],
   "source": [
    "nrow(poverty)\n",
    "ncol(poverty)\n",
    "dim(poverty)\n",
    "colnames(poverty)"
   ]
  },
  {
   "cell_type": "code",
   "execution_count": 22,
   "metadata": {},
   "outputs": [
    {
     "data": {
      "text/html": [
       "<ol class=list-inline>\n",
       "\t<li>1996</li>\n",
       "\t<li>2002</li>\n",
       "\t<li>2004</li>\n",
       "\t<li>2005</li>\n",
       "\t<li>2008</li>\n",
       "\t<li>2012</li>\n",
       "</ol>\n"
      ],
      "text/latex": [
       "\\begin{enumerate*}\n",
       "\\item 1996\n",
       "\\item 2002\n",
       "\\item 2004\n",
       "\\item 2005\n",
       "\\item 2008\n",
       "\\item 2012\n",
       "\\end{enumerate*}\n"
      ],
      "text/markdown": [
       "1. 1996\n",
       "2. 2002\n",
       "3. 2004\n",
       "4. 2005\n",
       "5. 2008\n",
       "6. 2012\n",
       "\n",
       "\n"
      ],
      "text/plain": [
       "[1] 1996 2002 2004 2005 2008 2012"
      ]
     },
     "metadata": {},
     "output_type": "display_data"
    },
    {
     "data": {
      "text/html": [
       "<ol class=list-inline>\n",
       "\t<li>1996</li>\n",
       "\t<li>2002</li>\n",
       "\t<li>2004</li>\n",
       "\t<li>2005</li>\n",
       "\t<li>2008</li>\n",
       "\t<li>2012</li>\n",
       "</ol>\n"
      ],
      "text/latex": [
       "\\begin{enumerate*}\n",
       "\\item 1996\n",
       "\\item 2002\n",
       "\\item 2004\n",
       "\\item 2005\n",
       "\\item 2008\n",
       "\\item 2012\n",
       "\\end{enumerate*}\n"
      ],
      "text/markdown": [
       "1. 1996\n",
       "2. 2002\n",
       "3. 2004\n",
       "4. 2005\n",
       "5. 2008\n",
       "6. 2012\n",
       "\n",
       "\n"
      ],
      "text/plain": [
       "[1] 1996 2002 2004 2005 2008 2012"
      ]
     },
     "metadata": {},
     "output_type": "display_data"
    },
    {
     "data": {
      "text/html": [
       "<ol class=list-inline>\n",
       "\t<li>1996</li>\n",
       "\t<li>2002</li>\n",
       "\t<li>2004</li>\n",
       "\t<li>2005</li>\n",
       "\t<li>2008</li>\n",
       "\t<li>2012</li>\n",
       "</ol>\n"
      ],
      "text/latex": [
       "\\begin{enumerate*}\n",
       "\\item 1996\n",
       "\\item 2002\n",
       "\\item 2004\n",
       "\\item 2005\n",
       "\\item 2008\n",
       "\\item 2012\n",
       "\\end{enumerate*}\n"
      ],
      "text/markdown": [
       "1. 1996\n",
       "2. 2002\n",
       "3. 2004\n",
       "4. 2005\n",
       "5. 2008\n",
       "6. 2012\n",
       "\n",
       "\n"
      ],
      "text/plain": [
       "[1] 1996 2002 2004 2005 2008 2012"
      ]
     },
     "metadata": {},
     "output_type": "display_data"
    }
   ],
   "source": [
    "head(poverty$time)\n",
    "# OR\n",
    "poverty[1:6, 'time']\n",
    "# OR\n",
    "head(poverty[, 2])"
   ]
  },
  {
   "cell_type": "code",
   "execution_count": 24,
   "metadata": {},
   "outputs": [
    {
     "data": {
      "text/html": [
       "<table>\n",
       "<thead><tr><th scope=col>geo</th><th scope=col>time</th><th scope=col>extreme_poverty_percent_people_below_125_a_day</th></tr></thead>\n",
       "<tbody>\n",
       "\t<tr><td>alb </td><td>1996</td><td>0.20</td></tr>\n",
       "\t<tr><td>alb </td><td>2002</td><td>0.73</td></tr>\n",
       "\t<tr><td>alb </td><td>2004</td><td>0.53</td></tr>\n",
       "</tbody>\n",
       "</table>\n"
      ],
      "text/latex": [
       "\\begin{tabular}{r|lll}\n",
       " geo & time & extreme\\_poverty\\_percent\\_people\\_below\\_125\\_a\\_day\\\\\n",
       "\\hline\n",
       "\t alb  & 1996 & 0.20\\\\\n",
       "\t alb  & 2002 & 0.73\\\\\n",
       "\t alb  & 2004 & 0.53\\\\\n",
       "\\end{tabular}\n"
      ],
      "text/markdown": [
       "\n",
       "| geo | time | extreme_poverty_percent_people_below_125_a_day |\n",
       "|---|---|---|\n",
       "| alb  | 1996 | 0.20 |\n",
       "| alb  | 2002 | 0.73 |\n",
       "| alb  | 2004 | 0.53 |\n",
       "\n"
      ],
      "text/plain": [
       "  geo time extreme_poverty_percent_people_below_125_a_day\n",
       "1 alb 1996 0.20                                          \n",
       "2 alb 2002 0.73                                          \n",
       "3 alb 2004 0.53                                          "
      ]
     },
     "metadata": {},
     "output_type": "display_data"
    }
   ],
   "source": [
    "poverty[1:3,]"
   ]
  },
  {
   "cell_type": "markdown",
   "metadata": {},
   "source": [
    "### 2.3 Manipulating Data"
   ]
  },
  {
   "cell_type": "markdown",
   "metadata": {},
   "source": [
    "In R, we can use `data$newcolumn <- datavector` to add a new column to an existing dataframe. On the right side of the arrow, we have the data vector we want to add to the dataframe and we can add this data by accessing/creating a new column the `$` notation."
   ]
  },
  {
   "cell_type": "code",
   "execution_count": 25,
   "metadata": {},
   "outputs": [
    {
     "data": {
      "text/html": [
       "<table>\n",
       "<thead><tr><th scope=col>letter</th><th scope=col>count</th><th scope=col>points</th><th scope=col>vowel</th></tr></thead>\n",
       "<tbody>\n",
       "\t<tr><td>a  </td><td>9  </td><td> 1 </td><td>yes</td></tr>\n",
       "\t<tr><td>b  </td><td>3  </td><td> 2 </td><td>no </td></tr>\n",
       "\t<tr><td>c  </td><td>3  </td><td> 2 </td><td>no </td></tr>\n",
       "\t<tr><td>z  </td><td>1  </td><td>10 </td><td>no </td></tr>\n",
       "</tbody>\n",
       "</table>\n"
      ],
      "text/latex": [
       "\\begin{tabular}{r|llll}\n",
       " letter & count & points & vowel\\\\\n",
       "\\hline\n",
       "\t a   & 9   &  1  & yes\\\\\n",
       "\t b   & 3   &  2  & no \\\\\n",
       "\t c   & 3   &  2  & no \\\\\n",
       "\t z   & 1   & 10  & no \\\\\n",
       "\\end{tabular}\n"
      ],
      "text/markdown": [
       "\n",
       "| letter | count | points | vowel |\n",
       "|---|---|---|---|\n",
       "| a   | 9   |  1  | yes |\n",
       "| b   | 3   |  2  | no  |\n",
       "| c   | 3   |  2  | no  |\n",
       "| z   | 1   | 10  | no  |\n",
       "\n"
      ],
      "text/plain": [
       "  letter count points vowel\n",
       "1 a      9      1     yes  \n",
       "2 b      3      2     no   \n",
       "3 c      3      2     no   \n",
       "4 z      1     10     no   "
      ]
     },
     "metadata": {},
     "output_type": "display_data"
    }
   ],
   "source": [
    "# example: Adding a new column\n",
    "t$vowel <- c('yes', 'no', 'no', 'no')\n",
    "t"
   ]
  },
  {
   "cell_type": "markdown",
   "metadata": {},
   "source": [
    "We can also add an existing column to the dataframe, which might be manipulated and added as a new column. This will manipulate the column within the existing dataframe that we have."
   ]
  },
  {
   "cell_type": "code",
   "execution_count": 26,
   "metadata": {},
   "outputs": [
    {
     "data": {
      "text/html": [
       "<table>\n",
       "<thead><tr><th scope=col>letter</th><th scope=col>count</th><th scope=col>points</th><th scope=col>vowel</th><th scope=col>double</th></tr></thead>\n",
       "<tbody>\n",
       "\t<tr><td>a  </td><td>9  </td><td> 1 </td><td>yes</td><td>18 </td></tr>\n",
       "\t<tr><td>b  </td><td>3  </td><td> 2 </td><td>no </td><td> 6 </td></tr>\n",
       "\t<tr><td>c  </td><td>3  </td><td> 2 </td><td>no </td><td> 6 </td></tr>\n",
       "\t<tr><td>z  </td><td>1  </td><td>10 </td><td>no </td><td> 2 </td></tr>\n",
       "</tbody>\n",
       "</table>\n"
      ],
      "text/latex": [
       "\\begin{tabular}{r|lllll}\n",
       " letter & count & points & vowel & double\\\\\n",
       "\\hline\n",
       "\t a   & 9   &  1  & yes & 18 \\\\\n",
       "\t b   & 3   &  2  & no  &  6 \\\\\n",
       "\t c   & 3   &  2  & no  &  6 \\\\\n",
       "\t z   & 1   & 10  & no  &  2 \\\\\n",
       "\\end{tabular}\n"
      ],
      "text/markdown": [
       "\n",
       "| letter | count | points | vowel | double |\n",
       "|---|---|---|---|---|\n",
       "| a   | 9   |  1  | yes | 18  |\n",
       "| b   | 3   |  2  | no  |  6  |\n",
       "| c   | 3   |  2  | no  |  6  |\n",
       "| z   | 1   | 10  | no  |  2  |\n",
       "\n"
      ],
      "text/plain": [
       "  letter count points vowel double\n",
       "1 a      9      1     yes   18    \n",
       "2 b      3      2     no     6    \n",
       "3 c      3      2     no     6    \n",
       "4 z      1     10     no     2    "
      ]
     },
     "metadata": {},
     "output_type": "display_data"
    }
   ],
   "source": [
    "# Example: Adding twice the count to the dataframe\n",
    "t$double <- t$count * 2\n",
    "t"
   ]
  },
  {
   "cell_type": "markdown",
   "metadata": {},
   "source": [
    "**Filtering Rows Conditionally**\n",
    "\n",
    "In R, we use the following syntax to subset rows: `df[df$colname <logical operator> value, ]` (Note the comma at the end!). The following examples will provide different ways of filtering the dataframe."
   ]
  },
  {
   "cell_type": "code",
   "execution_count": 27,
   "metadata": {},
   "outputs": [
    {
     "data": {
      "text/html": [
       "<table>\n",
       "<thead><tr><th></th><th scope=col>letter</th><th scope=col>count</th><th scope=col>points</th><th scope=col>vowel</th><th scope=col>double</th></tr></thead>\n",
       "<tbody>\n",
       "\t<tr><th scope=row>2</th><td>b </td><td>3 </td><td>2 </td><td>no</td><td>6 </td></tr>\n",
       "\t<tr><th scope=row>3</th><td>c </td><td>3 </td><td>2 </td><td>no</td><td>6 </td></tr>\n",
       "</tbody>\n",
       "</table>\n"
      ],
      "text/latex": [
       "\\begin{tabular}{r|lllll}\n",
       "  & letter & count & points & vowel & double\\\\\n",
       "\\hline\n",
       "\t2 & b  & 3  & 2  & no & 6 \\\\\n",
       "\t3 & c  & 3  & 2  & no & 6 \\\\\n",
       "\\end{tabular}\n"
      ],
      "text/markdown": [
       "\n",
       "| <!--/--> | letter | count | points | vowel | double |\n",
       "|---|---|---|---|---|---|\n",
       "| 2 | b  | 3  | 2  | no | 6  |\n",
       "| 3 | c  | 3  | 2  | no | 6  |\n",
       "\n"
      ],
      "text/plain": [
       "  letter count points vowel double\n",
       "2 b      3     2      no    6     \n",
       "3 c      3     2      no    6     "
      ]
     },
     "metadata": {},
     "output_type": "display_data"
    }
   ],
   "source": [
    "# rows where points = 2\n",
    "t[t$points == 2, ]"
   ]
  },
  {
   "cell_type": "code",
   "execution_count": 28,
   "metadata": {},
   "outputs": [
    {
     "data": {
      "text/html": [
       "<table>\n",
       "<thead><tr><th></th><th scope=col>letter</th><th scope=col>count</th><th scope=col>points</th><th scope=col>vowel</th><th scope=col>double</th></tr></thead>\n",
       "<tbody>\n",
       "\t<tr><th scope=row>2</th><td>b </td><td>3 </td><td> 2</td><td>no</td><td>6 </td></tr>\n",
       "\t<tr><th scope=row>3</th><td>c </td><td>3 </td><td> 2</td><td>no</td><td>6 </td></tr>\n",
       "\t<tr><th scope=row>4</th><td>z </td><td>1 </td><td>10</td><td>no</td><td>2 </td></tr>\n",
       "</tbody>\n",
       "</table>\n"
      ],
      "text/latex": [
       "\\begin{tabular}{r|lllll}\n",
       "  & letter & count & points & vowel & double\\\\\n",
       "\\hline\n",
       "\t2 & b  & 3  &  2 & no & 6 \\\\\n",
       "\t3 & c  & 3  &  2 & no & 6 \\\\\n",
       "\t4 & z  & 1  & 10 & no & 2 \\\\\n",
       "\\end{tabular}\n"
      ],
      "text/markdown": [
       "\n",
       "| <!--/--> | letter | count | points | vowel | double |\n",
       "|---|---|---|---|---|---|\n",
       "| 2 | b  | 3  |  2 | no | 6  |\n",
       "| 3 | c  | 3  |  2 | no | 6  |\n",
       "| 4 | z  | 1  | 10 | no | 2  |\n",
       "\n"
      ],
      "text/plain": [
       "  letter count points vowel double\n",
       "2 b      3      2     no    6     \n",
       "3 c      3      2     no    6     \n",
       "4 z      1     10     no    2     "
      ]
     },
     "metadata": {},
     "output_type": "display_data"
    }
   ],
   "source": [
    "# rows where count < 8\n",
    "t[t['count'] <= 8, ] # we can also use df['colname'] instead of df$colname"
   ]
  },
  {
   "cell_type": "code",
   "execution_count": 29,
   "metadata": {},
   "outputs": [
    {
     "data": {
      "text/html": [
       "<table>\n",
       "<thead><tr><th scope=col>letter</th><th scope=col>count</th><th scope=col>points</th><th scope=col>vowel</th><th scope=col>double</th></tr></thead>\n",
       "<tbody>\n",
       "\t<tr><td>a  </td><td>9  </td><td>1  </td><td>yes</td><td>18 </td></tr>\n",
       "</tbody>\n",
       "</table>\n"
      ],
      "text/latex": [
       "\\begin{tabular}{r|lllll}\n",
       " letter & count & points & vowel & double\\\\\n",
       "\\hline\n",
       "\t a   & 9   & 1   & yes & 18 \\\\\n",
       "\\end{tabular}\n"
      ],
      "text/markdown": [
       "\n",
       "| letter | count | points | vowel | double |\n",
       "|---|---|---|---|---|\n",
       "| a   | 9   | 1   | yes | 18  |\n",
       "\n"
      ],
      "text/plain": [
       "  letter count points vowel double\n",
       "1 a      9     1      yes   18    "
      ]
     },
     "metadata": {},
     "output_type": "display_data"
    }
   ],
   "source": [
    "# multiple conditions: points < 2 and vowel = 'yes'\n",
    "t[t$points < 2 & t['vowel'] == 'yes', ]"
   ]
  },
  {
   "cell_type": "markdown",
   "metadata": {},
   "source": [
    "**Renaming Columns**\n",
    "\n",
    "In R, we can use the following to rename columns: `colnames(df)[colnames(df) == oldcolname] <- newcolname`. This selects the required column by filtering from `colnames(df)` and then assigns the new name to that column. Note that the Python `relabeled()` function creates a new Table, while the R method to rename mutates the current table."
   ]
  },
  {
   "cell_type": "code",
   "execution_count": 30,
   "metadata": {},
   "outputs": [
    {
     "data": {
      "text/html": [
       "<table>\n",
       "<thead><tr><th scope=col>letter</th><th scope=col>count</th><th scope=col>points</th><th scope=col>vowel</th><th scope=col>twice</th></tr></thead>\n",
       "<tbody>\n",
       "\t<tr><td>a  </td><td>9  </td><td> 1 </td><td>yes</td><td>18 </td></tr>\n",
       "\t<tr><td>b  </td><td>3  </td><td> 2 </td><td>no </td><td> 6 </td></tr>\n",
       "\t<tr><td>c  </td><td>3  </td><td> 2 </td><td>no </td><td> 6 </td></tr>\n",
       "\t<tr><td>z  </td><td>1  </td><td>10 </td><td>no </td><td> 2 </td></tr>\n",
       "</tbody>\n",
       "</table>\n"
      ],
      "text/latex": [
       "\\begin{tabular}{r|lllll}\n",
       " letter & count & points & vowel & twice\\\\\n",
       "\\hline\n",
       "\t a   & 9   &  1  & yes & 18 \\\\\n",
       "\t b   & 3   &  2  & no  &  6 \\\\\n",
       "\t c   & 3   &  2  & no  &  6 \\\\\n",
       "\t z   & 1   & 10  & no  &  2 \\\\\n",
       "\\end{tabular}\n"
      ],
      "text/markdown": [
       "\n",
       "| letter | count | points | vowel | twice |\n",
       "|---|---|---|---|---|\n",
       "| a   | 9   |  1  | yes | 18  |\n",
       "| b   | 3   |  2  | no  |  6  |\n",
       "| c   | 3   |  2  | no  |  6  |\n",
       "| z   | 1   | 10  | no  |  2  |\n",
       "\n"
      ],
      "text/plain": [
       "  letter count points vowel twice\n",
       "1 a      9      1     yes   18   \n",
       "2 b      3      2     no     6   \n",
       "3 c      3      2     no     6   \n",
       "4 z      1     10     no     2   "
      ]
     },
     "metadata": {},
     "output_type": "display_data"
    }
   ],
   "source": [
    "# example: renaming double to twice\n",
    "colnames(t)[colnames(t) == 'double'] <- 'twice'\n",
    "t"
   ]
  },
  {
   "cell_type": "markdown",
   "metadata": {},
   "source": [
    "**Sorting Dataframe by Column**\n",
    "\n",
    "In R, we can use `order()` in the subset notation: `df[order(df$colname), ]`."
   ]
  },
  {
   "cell_type": "code",
   "execution_count": 31,
   "metadata": {},
   "outputs": [
    {
     "data": {
      "text/html": [
       "<table>\n",
       "<thead><tr><th></th><th scope=col>letter</th><th scope=col>count</th><th scope=col>points</th><th scope=col>vowel</th><th scope=col>twice</th></tr></thead>\n",
       "<tbody>\n",
       "\t<tr><th scope=row>4</th><td>z  </td><td>1  </td><td>10 </td><td>no </td><td> 2 </td></tr>\n",
       "\t<tr><th scope=row>2</th><td>b  </td><td>3  </td><td> 2 </td><td>no </td><td> 6 </td></tr>\n",
       "\t<tr><th scope=row>3</th><td>c  </td><td>3  </td><td> 2 </td><td>no </td><td> 6 </td></tr>\n",
       "\t<tr><th scope=row>1</th><td>a  </td><td>9  </td><td> 1 </td><td>yes</td><td>18 </td></tr>\n",
       "</tbody>\n",
       "</table>\n"
      ],
      "text/latex": [
       "\\begin{tabular}{r|lllll}\n",
       "  & letter & count & points & vowel & twice\\\\\n",
       "\\hline\n",
       "\t4 & z   & 1   & 10  & no  &  2 \\\\\n",
       "\t2 & b   & 3   &  2  & no  &  6 \\\\\n",
       "\t3 & c   & 3   &  2  & no  &  6 \\\\\n",
       "\t1 & a   & 9   &  1  & yes & 18 \\\\\n",
       "\\end{tabular}\n"
      ],
      "text/markdown": [
       "\n",
       "| <!--/--> | letter | count | points | vowel | twice |\n",
       "|---|---|---|---|---|---|\n",
       "| 4 | z   | 1   | 10  | no  |  2  |\n",
       "| 2 | b   | 3   |  2  | no  |  6  |\n",
       "| 3 | c   | 3   |  2  | no  |  6  |\n",
       "| 1 | a   | 9   |  1  | yes | 18  |\n",
       "\n"
      ],
      "text/plain": [
       "  letter count points vowel twice\n",
       "4 z      1     10     no     2   \n",
       "2 b      3      2     no     6   \n",
       "3 c      3      2     no     6   \n",
       "1 a      9      1     yes   18   "
      ]
     },
     "metadata": {},
     "output_type": "display_data"
    }
   ],
   "source": [
    "# sort by count\n",
    "t[order(t$count), ]"
   ]
  },
  {
   "cell_type": "code",
   "execution_count": 32,
   "metadata": {},
   "outputs": [
    {
     "data": {
      "text/html": [
       "<table>\n",
       "<thead><tr><th scope=col>letter</th><th scope=col>count</th><th scope=col>points</th><th scope=col>vowel</th><th scope=col>twice</th></tr></thead>\n",
       "<tbody>\n",
       "\t<tr><td>a  </td><td>9  </td><td> 1 </td><td>yes</td><td>18 </td></tr>\n",
       "\t<tr><td>b  </td><td>3  </td><td> 2 </td><td>no </td><td> 6 </td></tr>\n",
       "\t<tr><td>c  </td><td>3  </td><td> 2 </td><td>no </td><td> 6 </td></tr>\n",
       "\t<tr><td>z  </td><td>1  </td><td>10 </td><td>no </td><td> 2 </td></tr>\n",
       "</tbody>\n",
       "</table>\n"
      ],
      "text/latex": [
       "\\begin{tabular}{r|lllll}\n",
       " letter & count & points & vowel & twice\\\\\n",
       "\\hline\n",
       "\t a   & 9   &  1  & yes & 18 \\\\\n",
       "\t b   & 3   &  2  & no  &  6 \\\\\n",
       "\t c   & 3   &  2  & no  &  6 \\\\\n",
       "\t z   & 1   & 10  & no  &  2 \\\\\n",
       "\\end{tabular}\n"
      ],
      "text/markdown": [
       "\n",
       "| letter | count | points | vowel | twice |\n",
       "|---|---|---|---|---|\n",
       "| a   | 9   |  1  | yes | 18  |\n",
       "| b   | 3   |  2  | no  |  6  |\n",
       "| c   | 3   |  2  | no  |  6  |\n",
       "| z   | 1   | 10  | no  |  2  |\n",
       "\n"
      ],
      "text/plain": [
       "  letter count points vowel twice\n",
       "1 a      9      1     yes   18   \n",
       "2 b      3      2     no     6   \n",
       "3 c      3      2     no     6   \n",
       "4 z      1     10     no     2   "
      ]
     },
     "metadata": {},
     "output_type": "display_data"
    }
   ],
   "source": [
    "# sort by descending order of count\n",
    "t[order(-t$count), ]"
   ]
  },
  {
   "cell_type": "markdown",
   "metadata": {},
   "source": [
    "**Grouping and Aggregating**\n",
    "\n",
    "In R, we can use `aggregate()` to group and aggregate values in our dataframe"
   ]
  },
  {
   "cell_type": "code",
   "execution_count": 33,
   "metadata": {},
   "outputs": [
    {
     "data": {
      "text/html": [
       "<table>\n",
       "<thead><tr><th scope=col>count</th><th scope=col>points</th></tr></thead>\n",
       "<tbody>\n",
       "\t<tr><td>1 </td><td>10</td></tr>\n",
       "\t<tr><td>3 </td><td> 4</td></tr>\n",
       "\t<tr><td>9 </td><td> 1</td></tr>\n",
       "</tbody>\n",
       "</table>\n"
      ],
      "text/latex": [
       "\\begin{tabular}{r|ll}\n",
       " count & points\\\\\n",
       "\\hline\n",
       "\t 1  & 10\\\\\n",
       "\t 3  &  4\\\\\n",
       "\t 9  &  1\\\\\n",
       "\\end{tabular}\n"
      ],
      "text/markdown": [
       "\n",
       "| count | points |\n",
       "|---|---|\n",
       "| 1  | 10 |\n",
       "| 3  |  4 |\n",
       "| 9  |  1 |\n",
       "\n"
      ],
      "text/plain": [
       "  count points\n",
       "1 1     10    \n",
       "2 3      4    \n",
       "3 9      1    "
      ]
     },
     "metadata": {},
     "output_type": "display_data"
    }
   ],
   "source": [
    "# grouping by count and summing points\n",
    "aggregate(points ~ count, t, sum)"
   ]
  },
  {
   "cell_type": "markdown",
   "metadata": {},
   "source": [
    "**Pivot Table**\n",
    "\n",
    "In R, one simple way of building a pivot table is to use the `table()` function"
   ]
  },
  {
   "cell_type": "code",
   "execution_count": 37,
   "metadata": {},
   "outputs": [
    {
     "data": {
      "text/html": [
       "<table>\n",
       "<thead><tr><th scope=col>geo</th><th scope=col>time</th><th scope=col>population_total</th></tr></thead>\n",
       "<tbody>\n",
       "\t<tr><td>afg    </td><td>1800   </td><td>3280000</td></tr>\n",
       "\t<tr><td>afg    </td><td>1801   </td><td>3280000</td></tr>\n",
       "\t<tr><td>afg    </td><td>1802   </td><td>3280000</td></tr>\n",
       "\t<tr><td>afg    </td><td>1803   </td><td>3280000</td></tr>\n",
       "\t<tr><td>afg    </td><td>1804   </td><td>3280000</td></tr>\n",
       "\t<tr><td>afg    </td><td>1805   </td><td>3280000</td></tr>\n",
       "</tbody>\n",
       "</table>\n"
      ],
      "text/latex": [
       "\\begin{tabular}{r|lll}\n",
       " geo & time & population\\_total\\\\\n",
       "\\hline\n",
       "\t afg     & 1800    & 3280000\\\\\n",
       "\t afg     & 1801    & 3280000\\\\\n",
       "\t afg     & 1802    & 3280000\\\\\n",
       "\t afg     & 1803    & 3280000\\\\\n",
       "\t afg     & 1804    & 3280000\\\\\n",
       "\t afg     & 1805    & 3280000\\\\\n",
       "\\end{tabular}\n"
      ],
      "text/markdown": [
       "\n",
       "| geo | time | population_total |\n",
       "|---|---|---|\n",
       "| afg     | 1800    | 3280000 |\n",
       "| afg     | 1801    | 3280000 |\n",
       "| afg     | 1802    | 3280000 |\n",
       "| afg     | 1803    | 3280000 |\n",
       "| afg     | 1804    | 3280000 |\n",
       "| afg     | 1805    | 3280000 |\n",
       "\n"
      ],
      "text/plain": [
       "  geo time population_total\n",
       "1 afg 1800 3280000         \n",
       "2 afg 1801 3280000         \n",
       "3 afg 1802 3280000         \n",
       "4 afg 1803 3280000         \n",
       "5 afg 1804 3280000         \n",
       "6 afg 1805 3280000         "
      ]
     },
     "metadata": {},
     "output_type": "display_data"
    }
   ],
   "source": [
    "pop <- read.csv('C:/Users/Tarek/Documents/Data_Science/population.csv')\n",
    "head(pop)"
   ]
  },
  {
   "cell_type": "code",
   "execution_count": 46,
   "metadata": {},
   "outputs": [
    {
     "data": {
      "text/html": [
       "<table>\n",
       "<thead><tr><th></th><th scope=col>time</th><th scope=col>population_total</th></tr></thead>\n",
       "<tbody>\n",
       "\t<tr><th scope=row>151</th><td>1950      </td><td>2532392455</td></tr>\n",
       "\t<tr><th scope=row>152</th><td>1951      </td><td>2579907584</td></tr>\n",
       "\t<tr><th scope=row>153</th><td>1952      </td><td>2626640793</td></tr>\n",
       "\t<tr><th scope=row>154</th><td>1953      </td><td>2673247873</td></tr>\n",
       "\t<tr><th scope=row>155</th><td>1954      </td><td>2720278371</td></tr>\n",
       "\t<tr><th scope=row>156</th><td>1955      </td><td>2768174803</td></tr>\n",
       "</tbody>\n",
       "</table>\n"
      ],
      "text/latex": [
       "\\begin{tabular}{r|ll}\n",
       "  & time & population\\_total\\\\\n",
       "\\hline\n",
       "\t151 & 1950       & 2532392455\\\\\n",
       "\t152 & 1951       & 2579907584\\\\\n",
       "\t153 & 1952       & 2626640793\\\\\n",
       "\t154 & 1953       & 2673247873\\\\\n",
       "\t155 & 1954       & 2720278371\\\\\n",
       "\t156 & 1955       & 2768174803\\\\\n",
       "\\end{tabular}\n"
      ],
      "text/markdown": [
       "\n",
       "| <!--/--> | time | population_total |\n",
       "|---|---|---|\n",
       "| 151 | 1950       | 2532392455 |\n",
       "| 152 | 1951       | 2579907584 |\n",
       "| 153 | 1952       | 2626640793 |\n",
       "| 154 | 1953       | 2673247873 |\n",
       "| 155 | 1954       | 2720278371 |\n",
       "| 156 | 1955       | 2768174803 |\n",
       "\n"
      ],
      "text/plain": [
       "    time population_total\n",
       "151 1950 2532392455      \n",
       "152 1951 2579907584      \n",
       "153 1952 2626640793      \n",
       "154 1953 2673247873      \n",
       "155 1954 2720278371      \n",
       "156 1955 2768174803      "
      ]
     },
     "metadata": {},
     "output_type": "display_data"
    }
   ],
   "source": [
    "# Group by time to find the total world population each year \n",
    "t <- aggregate(population_total ~ time, pop, sum)\n",
    "# Get the total population between 1950 and 2015 for example\n",
    "t_1950_2015 <- t[t['time'] <= 2015 & t['time'] >= 1950,]\n",
    "head(t_1950_2015)"
   ]
  },
  {
   "cell_type": "code",
   "execution_count": 48,
   "metadata": {},
   "outputs": [
    {
     "data": {
      "text/html": [
       "197"
      ],
      "text/latex": [
       "197"
      ],
      "text/markdown": [
       "197"
      ],
      "text/plain": [
       "[1] 197"
      ]
     },
     "metadata": {},
     "output_type": "display_data"
    }
   ],
   "source": [
    "length(table(pop$geo))"
   ]
  },
  {
   "cell_type": "code",
   "execution_count": 51,
   "metadata": {},
   "outputs": [
    {
     "data": {
      "text/html": [
       "59297"
      ],
      "text/latex": [
       "59297"
      ],
      "text/markdown": [
       "59297"
      ],
      "text/plain": [
       "[1] 59297"
      ]
     },
     "metadata": {},
     "output_type": "display_data"
    },
    {
     "data": {
      "text/html": [
       "<ol class=list-inline>\n",
       "\t<li>59297</li>\n",
       "\t<li>3</li>\n",
       "</ol>\n"
      ],
      "text/latex": [
       "\\begin{enumerate*}\n",
       "\\item 59297\n",
       "\\item 3\n",
       "\\end{enumerate*}\n"
      ],
      "text/markdown": [
       "1. 59297\n",
       "2. 3\n",
       "\n",
       "\n"
      ],
      "text/plain": [
       "[1] 59297     3"
      ]
     },
     "metadata": {},
     "output_type": "display_data"
    }
   ],
   "source": [
    "nrow(pop)\n",
    "dim(pop)"
   ]
  },
  {
   "cell_type": "markdown",
   "metadata": {},
   "source": [
    "## 3. Visualizing Data"
   ]
  },
  {
   "cell_type": "markdown",
   "metadata": {},
   "source": [
    "### 3.1 Histograms\n",
    "\n",
    "In R, we can simply use the `hist()` function to create a histogram. In this example, we will be using data from `baby.csv`. Recall that the baby data set contains data on a random sample of 1,174 mothers and their newborn babies. The column `birthwt` contains the birth weight of the baby, in ounces; `gest_days` is the number of gestational days, that is, the number of days the baby was in the womb. There is also data on maternal age, maternal height, maternal pregnancy weight, and whether or not the mother was a smoker."
   ]
  },
  {
   "cell_type": "code",
   "execution_count": 243,
   "metadata": {},
   "outputs": [
    {
     "data": {
      "text/plain": [
       "  Birth.Weight   Gestational.Days  Maternal.Age   Maternal.Height\n",
       " Min.   : 55.0   Min.   :148.0    Min.   :15.00   Min.   :53.00  \n",
       " 1st Qu.:108.0   1st Qu.:272.0    1st Qu.:23.00   1st Qu.:62.00  \n",
       " Median :120.0   Median :280.0    Median :26.00   Median :64.00  \n",
       " Mean   :119.5   Mean   :279.1    Mean   :27.23   Mean   :64.05  \n",
       " 3rd Qu.:131.0   3rd Qu.:288.0    3rd Qu.:31.00   3rd Qu.:66.00  \n",
       " Max.   :176.0   Max.   :353.0    Max.   :45.00   Max.   :72.00  \n",
       " Maternal.Pregnancy.Weight Maternal.Smoker\n",
       " Min.   : 87.0             False:715      \n",
       " 1st Qu.:114.2             True :459      \n",
       " Median :125.0                            \n",
       " Mean   :128.5                            \n",
       " 3rd Qu.:139.0                            \n",
       " Max.   :250.0                            "
      ]
     },
     "metadata": {},
     "output_type": "display_data"
    }
   ],
   "source": [
    "baby <- read.csv('C:/Users/Tarek/Documents/Data_Science/baby.csv')\n",
    "summary(baby)"
   ]
  },
  {
   "cell_type": "code",
   "execution_count": 56,
   "metadata": {},
   "outputs": [
    {
     "data": {
      "text/html": [
       "<table>\n",
       "<thead><tr><th scope=col>Birth.Weight</th><th scope=col>Gestational.Days</th><th scope=col>Maternal.Age</th><th scope=col>Maternal.Height</th><th scope=col>Maternal.Pregnancy.Weight</th><th scope=col>Maternal.Smoker</th></tr></thead>\n",
       "<tbody>\n",
       "\t<tr><td>120  </td><td>284  </td><td>27   </td><td>62   </td><td>100  </td><td>False</td></tr>\n",
       "\t<tr><td>113  </td><td>282  </td><td>33   </td><td>64   </td><td>135  </td><td>False</td></tr>\n",
       "\t<tr><td>128  </td><td>279  </td><td>28   </td><td>64   </td><td>115  </td><td>True </td></tr>\n",
       "\t<tr><td>108  </td><td>282  </td><td>23   </td><td>67   </td><td>125  </td><td>True </td></tr>\n",
       "\t<tr><td>136  </td><td>286  </td><td>25   </td><td>62   </td><td> 93  </td><td>False</td></tr>\n",
       "\t<tr><td>138  </td><td>244  </td><td>33   </td><td>62   </td><td>178  </td><td>False</td></tr>\n",
       "</tbody>\n",
       "</table>\n"
      ],
      "text/latex": [
       "\\begin{tabular}{r|llllll}\n",
       " Birth.Weight & Gestational.Days & Maternal.Age & Maternal.Height & Maternal.Pregnancy.Weight & Maternal.Smoker\\\\\n",
       "\\hline\n",
       "\t 120   & 284   & 27    & 62    & 100   & False\\\\\n",
       "\t 113   & 282   & 33    & 64    & 135   & False\\\\\n",
       "\t 128   & 279   & 28    & 64    & 115   & True \\\\\n",
       "\t 108   & 282   & 23    & 67    & 125   & True \\\\\n",
       "\t 136   & 286   & 25    & 62    &  93   & False\\\\\n",
       "\t 138   & 244   & 33    & 62    & 178   & False\\\\\n",
       "\\end{tabular}\n"
      ],
      "text/markdown": [
       "\n",
       "| Birth.Weight | Gestational.Days | Maternal.Age | Maternal.Height | Maternal.Pregnancy.Weight | Maternal.Smoker |\n",
       "|---|---|---|---|---|---|\n",
       "| 120   | 284   | 27    | 62    | 100   | False |\n",
       "| 113   | 282   | 33    | 64    | 135   | False |\n",
       "| 128   | 279   | 28    | 64    | 115   | True  |\n",
       "| 108   | 282   | 23    | 67    | 125   | True  |\n",
       "| 136   | 286   | 25    | 62    |  93   | False |\n",
       "| 138   | 244   | 33    | 62    | 178   | False |\n",
       "\n"
      ],
      "text/plain": [
       "  Birth.Weight Gestational.Days Maternal.Age Maternal.Height\n",
       "1 120          284              27           62             \n",
       "2 113          282              33           64             \n",
       "3 128          279              28           64             \n",
       "4 108          282              23           67             \n",
       "5 136          286              25           62             \n",
       "6 138          244              33           62             \n",
       "  Maternal.Pregnancy.Weight Maternal.Smoker\n",
       "1 100                       False          \n",
       "2 135                       False          \n",
       "3 115                       True           \n",
       "4 125                       True           \n",
       "5  93                       False          \n",
       "6 178                       False          "
      ]
     },
     "metadata": {},
     "output_type": "display_data"
    }
   ],
   "source": [
    "head(baby)"
   ]
  },
  {
   "cell_type": "code",
   "execution_count": 202,
   "metadata": {},
   "outputs": [
    {
     "data": {
      "text/html": [
       "<strong>False:</strong> 60.9"
      ],
      "text/latex": [
       "\\textbf{False:} 60.9"
      ],
      "text/markdown": [
       "**False:** 60.9"
      ],
      "text/plain": [
       "False \n",
       " 60.9 "
      ]
     },
     "metadata": {},
     "output_type": "display_data"
    }
   ],
   "source": [
    "round((table(baby$Maternal.Smoker)[1] / sum(table(baby$Maternal.Smoker)))*100,2)"
   ]
  },
  {
   "cell_type": "code",
   "execution_count": 212,
   "metadata": {},
   "outputs": [
    {
     "data": {
      "text/html": [
       "119.462521294719"
      ],
      "text/latex": [
       "119.462521294719"
      ],
      "text/markdown": [
       "119.462521294719"
      ],
      "text/plain": [
       "[1] 119.4625"
      ]
     },
     "metadata": {},
     "output_type": "display_data"
    },
    {
     "data": {
      "text/html": [
       "120"
      ],
      "text/latex": [
       "120"
      ],
      "text/markdown": [
       "120"
      ],
      "text/plain": [
       "[1] 120"
      ]
     },
     "metadata": {},
     "output_type": "display_data"
    }
   ],
   "source": [
    "mean(baby$Birth.Weight)\n",
    "median((baby$Birth.Weight))"
   ]
  },
  {
   "cell_type": "code",
   "execution_count": 209,
   "metadata": {},
   "outputs": [
    {
     "data": {
      "text/html": [
       "<table>\n",
       "<thead><tr><th scope=col>Maternal.Smoker</th><th scope=col>Birth.Weight</th></tr></thead>\n",
       "<tbody>\n",
       "\t<tr><td>False   </td><td>123.0853</td></tr>\n",
       "\t<tr><td>True    </td><td>113.8192</td></tr>\n",
       "</tbody>\n",
       "</table>\n"
      ],
      "text/latex": [
       "\\begin{tabular}{r|ll}\n",
       " Maternal.Smoker & Birth.Weight\\\\\n",
       "\\hline\n",
       "\t False    & 123.0853\\\\\n",
       "\t True     & 113.8192\\\\\n",
       "\\end{tabular}\n"
      ],
      "text/markdown": [
       "\n",
       "| Maternal.Smoker | Birth.Weight |\n",
       "|---|---|\n",
       "| False    | 123.0853 |\n",
       "| True     | 113.8192 |\n",
       "\n"
      ],
      "text/plain": [
       "  Maternal.Smoker Birth.Weight\n",
       "1 False           123.0853    \n",
       "2 True            113.8192    "
      ]
     },
     "metadata": {},
     "output_type": "display_data"
    }
   ],
   "source": [
    "# Compare birth weights of babies whose mothers smoke to those who don't!\n",
    "aggregate(Birth.Weight ~ Maternal.Smoker, baby, mean)"
   ]
  },
  {
   "cell_type": "code",
   "execution_count": 58,
   "metadata": {},
   "outputs": [
    {
     "data": {
      "image/png": "[encoded data removed]",
      "text/plain": [
       "Plot with title \"Birth weights of babies\""
      ]
     },
     "metadata": {},
     "output_type": "display_data"
    }
   ],
   "source": [
    "# plotting a histogram of birth weights using base R\n",
    "hist(baby$Birth.Weight, \n",
    "     col=c(\"darkblue\"), # histogram color\n",
    "     main = \"Birth weights of babies\",# plot titile\n",
    "     xlab = \"Birth weights (in ounces)\", # x axis lable\n",
    "     xlim = c(40, 180)) # x axis range"
   ]
  },
  {
   "cell_type": "code",
   "execution_count": 72,
   "metadata": {},
   "outputs": [
    {
     "data": {
      "image/png": "[encoded data removed]",
      "text/plain": [
       "plot without title"
      ]
     },
     "metadata": {},
     "output_type": "display_data"
    }
   ],
   "source": [
    "# Using ggplot2\n",
    "qplot(baby$Birth.Weight,\n",
    "      main = 'Birth Weight of Babies',\n",
    "      xlab = 'Birth Weights (ounces)',\n",
    "      ylab = 'Count',\n",
    "      binwidth = 10,\n",
    "      fill = I('blue'),\n",
    "      col = I('black'),\n",
    "      alpha = I(0.2)\n",
    "      )"
   ]
  },
  {
   "cell_type": "code",
   "execution_count": 88,
   "metadata": {},
   "outputs": [
    {
     "data": {
      "image/png": "[encoded data removed]",
      "text/plain": [
       "plot without title"
      ]
     },
     "metadata": {},
     "output_type": "display_data"
    }
   ],
   "source": [
    "# OR\n",
    "ggplot(data = baby, aes(x = baby$Birth.Weight)) + \n",
    "    geom_histogram(breaks=seq(40, 180, by=10), \n",
    "                 col=\"black\", \n",
    "                 fill=\"blue\", \n",
    "                 alpha = .2) + \n",
    "    labs(title=\"Birth Weights of Babies\", x=\"Birth Weight (ounces)\", y=\"Count\") +\n",
    "    theme(plot.title = element_text(hjust = 0.5)) + \n",
    "    scale_fill_gradient(\"Count\", low=\"red\", high=\"green\")"
   ]
  },
  {
   "cell_type": "code",
   "execution_count": 97,
   "metadata": {},
   "outputs": [
    {
     "data": {
      "image/png": "[encoded data removed]",
      "text/plain": [
       "plot without title"
      ]
     },
     "metadata": {},
     "output_type": "display_data"
    }
   ],
   "source": [
    "ggplot(data = baby, aes(x = baby$Birth.Weight)) + \n",
    "    geom_histogram(breaks=seq(40, 180, by=10), \n",
    "                 col=\"black\", \n",
    "                 aes(fill=..count..)) + \n",
    "    scale_fill_gradient(\"Count\", low=\"red\", high=\"green\") + \n",
    "    labs(title=\"Birth Weights of Babies\", x=\"Birth Weight (ounces)\", y=\"Count\") +\n",
    "    theme(plot.title = element_text(hjust = 0.5))"
   ]
  },
  {
   "cell_type": "markdown",
   "metadata": {},
   "source": [
    "### 3.2 Line and Scatter Plots\n",
    "\n",
    "We can use the `plot()` function in R to plot two vectors X and Y. The first argument is the X values and the second argument is the Y values. We can specify the `type` parameter and set it to `'l'` for line plots, `'p'` for scatter plots and `'b'` for both. For a full list of parameters, refer to [this guide](https://www.rdocumentation.org/packages/graphics/versions/3.5.0/topics/plot)"
   ]
  },
  {
   "cell_type": "code",
   "execution_count": 188,
   "metadata": {},
   "outputs": [
    {
     "data": {
      "image/png": "[encoded data removed]",
      "text/plain": [
       "Plot with title \"Age of Gestation vs. Birth Weight\""
      ]
     },
     "metadata": {},
     "output_type": "display_data"
    }
   ],
   "source": [
    "# Simple linear regression model \n",
    "reg <- lm(Gestational.Days ~ Birth.Weight, data = baby)\n",
    "coeff <- coefficients(reg)\n",
    "\n",
    "# Scatter plot using Base R\n",
    "plot(baby$Birth.Weigh, baby$Gestational.Days, \n",
    "     main=\"Age of Gestation vs. Birth Weight\",\n",
    "     xlab = \"Birth Weights (Ounces)\",\n",
    "     ylab = \"Gestational Days\",\n",
    "     col = \"blue\",\n",
    "     pch = 16,\n",
    "     cex = 0.2)\n",
    "abline(reg, col=\"red\", lwd = 3)\n",
    "m1 = summary(reg)\n",
    "mtext(paste0(\"Gestational Days ~ \",round(m1$coefficients[1],2),\" + \", \n",
    "                   round(m1$coefficients[2],2),\" * Birth Weights\"), adj = 0)\n"
   ]
  },
  {
   "cell_type": "code",
   "execution_count": 116,
   "metadata": {},
   "outputs": [
    {
     "data": {
      "text/html": [
       "119.462521294719"
      ],
      "text/latex": [
       "119.462521294719"
      ],
      "text/markdown": [
       "119.462521294719"
      ],
      "text/plain": [
       "[1] 119.4625"
      ]
     },
     "metadata": {},
     "output_type": "display_data"
    },
    {
     "data": {
      "text/html": [
       "279.10136286201"
      ],
      "text/latex": [
       "279.10136286201"
      ],
      "text/markdown": [
       "279.10136286201"
      ],
      "text/plain": [
       "[1] 279.1014"
      ]
     },
     "metadata": {},
     "output_type": "display_data"
    }
   ],
   "source": [
    "mean(baby[,'Birth.Weight'])\n",
    "mean(baby[,'Gestational.Days'])"
   ]
  },
  {
   "cell_type": "code",
   "execution_count": 126,
   "metadata": {},
   "outputs": [
    {
     "data": {
      "text/html": [
       "<dl class=dl-horizontal>\n",
       "\t<dt>(Intercept)</dt>\n",
       "\t\t<dd>236.573504097498</dd>\n",
       "\t<dt>Birth.Weight</dt>\n",
       "\t\t<dd>0.355993313246708</dd>\n",
       "</dl>\n"
      ],
      "text/latex": [
       "\\begin{description*}\n",
       "\\item[(Intercept)] 236.573504097498\n",
       "\\item[Birth.Weight] 0.355993313246708\n",
       "\\end{description*}\n"
      ],
      "text/markdown": [
       "(Intercept)\n",
       ":   236.573504097498Birth.Weight\n",
       ":   0.355993313246708\n",
       "\n"
      ],
      "text/plain": [
       " (Intercept) Birth.Weight \n",
       " 236.5735041    0.3559933 "
      ]
     },
     "metadata": {},
     "output_type": "display_data"
    }
   ],
   "source": [
    "coeff"
   ]
  },
  {
   "cell_type": "code",
   "execution_count": 127,
   "metadata": {},
   "outputs": [
    {
     "data": {
      "text/plain": [
       "\n",
       "Call:\n",
       "lm(formula = Gestational.Days ~ Birth.Weight, data = baby)\n",
       "\n",
       "Coefficients:\n",
       " (Intercept)  Birth.Weight  \n",
       "     236.574         0.356  \n"
      ]
     },
     "metadata": {},
     "output_type": "display_data"
    }
   ],
   "source": [
    "reg"
   ]
  },
  {
   "cell_type": "code",
   "execution_count": 141,
   "metadata": {},
   "outputs": [
    {
     "data": {
      "text/plain": [
       "\n",
       "Call:\n",
       "lm(formula = Gestational.Days ~ Birth.Weight, data = baby)\n",
       "\n",
       "Residuals:\n",
       "     Min       1Q   Median       3Q      Max \n",
       "-129.869   -6.649    0.063    7.467   72.639 \n",
       "\n",
       "Coefficients:\n",
       "             Estimate Std. Error t value Pr(>|t|)    \n",
       "(Intercept)  236.5735     2.8161   84.01   <2e-16 ***\n",
       "Birth.Weight   0.3560     0.0233   15.28   <2e-16 ***\n",
       "---\n",
       "Signif. codes:  0 '***' 0.001 '**' 0.01 '*' 0.05 '.' 0.1 ' ' 1\n",
       "\n",
       "Residual standard error: 14.63 on 1172 degrees of freedom\n",
       "Multiple R-squared:  0.1661,\tAdjusted R-squared:  0.1654 \n",
       "F-statistic: 233.4 on 1 and 1172 DF,  p-value: < 2.2e-16\n"
      ]
     },
     "metadata": {},
     "output_type": "display_data"
    }
   ],
   "source": [
    "summary(reg)"
   ]
  },
  {
   "cell_type": "code",
   "execution_count": 142,
   "metadata": {},
   "outputs": [
    {
     "ename": "ERROR",
     "evalue": "Error in mtext(paste0(\"dist ~ \", round(m1$coefficients[1], 2), \" + \", : plot.new has not been called yet\n",
     "output_type": "error",
     "traceback": [
      "Error in mtext(paste0(\"dist ~ \", round(m1$coefficients[1], 2), \" + \", : plot.new has not been called yet\nTraceback:\n",
      "1. mtext(paste0(\"dist ~ \", round(m1$coefficients[1], 2), \" + \", \n .     round(m1$coefficients[2], 2), \"x\"), adj = 1)"
     ]
    }
   ],
   "source": [
    "m1 = summary(reg)\n",
    "mtext(paste0(\"dist ~ \",round(m1$coefficients[1],2),\" + \", \n",
    "                   round(m1$coefficients[2],2),\"x\"),\n",
    "      adj = 1)"
   ]
  },
  {
   "cell_type": "code",
   "execution_count": 164,
   "metadata": {},
   "outputs": [
    {
     "data": {
      "image/png": "[encoded data removed]",
      "text/plain": [
       "plot without title"
      ]
     },
     "metadata": {},
     "output_type": "display_data"
    }
   ],
   "source": [
    "# Using the ggplot2 Package\n",
    "lm_eqn <- function(df){\n",
    "    m <- lm(y ~ x, df);\n",
    "    eq <- substitute(italic(y) == a + b %.% italic(x)*\",\"~~italic(r)^2~\"=\"~r2, \n",
    "         list(a = format(unname(coef(m)[1]), digits = 2),\n",
    "              b = format(unname(coef(m)[2]), digits = 2),\n",
    "             r2 = format(summary(m)$r.squared, digits = 3)))\n",
    "    as.character(as.expression(eq));\n",
    "}\n",
    "\n",
    "p <- ggplot(data = baby, aes(x=Birth.Weight, y=Gestational.Days)) + \n",
    "        geom_smooth(method = \"lm\", se=FALSE, color=\"red\", formula = y ~ x) +\n",
    "        geom_point(cex=0.5) +\n",
    "        labs(title = \"Gestational Days vs. Birth Weights\", x = \"Birth Weight (Ounces)\", y = \"Gestational Days\") +\n",
    "        theme(plot.title = element_text(hjust = 0.5)) \n",
    "p\n",
    "# p1 <- p + geom_text(x = 100, y = 200, label = lm_eqn(baby), parse = TRUE)"
   ]
  },
  {
   "cell_type": "code",
   "execution_count": 165,
   "metadata": {},
   "outputs": [
    {
     "name": "stderr",
     "output_type": "stream",
     "text": [
      "also installing the dependencies 'gridExtra', 'polynom', 'splus2R'\n",
      "\n"
     ]
    },
    {
     "name": "stdout",
     "output_type": "stream",
     "text": [
      "package 'gridExtra' successfully unpacked and MD5 sums checked\n",
      "package 'polynom' successfully unpacked and MD5 sums checked\n",
      "package 'splus2R' successfully unpacked and MD5 sums checked\n",
      "package 'ggpmisc' successfully unpacked and MD5 sums checked\n",
      "\n",
      "The downloaded binary packages are in\n",
      "\tC:\\Users\\Tarek\\AppData\\Local\\Temp\\Rtmpc1fSZY\\downloaded_packages\n"
     ]
    }
   ],
   "source": [
    "install.packages(\"ggpmisc\")"
   ]
  },
  {
   "cell_type": "code",
   "execution_count": 187,
   "metadata": {},
   "outputs": [
    {
     "data": {
      "image/png": "[encoded data removed]",
      "text/plain": [
       "plot without title"
      ]
     },
     "metadata": {},
     "output_type": "display_data"
    }
   ],
   "source": [
    "library(ggpmisc)\n",
    "m <- lm(Gestational.Days ~ Birth.Weight, data = baby)   \n",
    "my_formula <- baby$Birth.Weight ~ baby$Gestational.Days\n",
    "\n",
    "p <- ggplot(data = baby, aes(x = Gestational.Days, y = Birth.Weight)) +\n",
    "           geom_smooth(method = \"lm\", se=FALSE, color=\"red\", formula = my.formula) +\n",
    "           stat_poly_eq(formula = my.formula, \n",
    "                        aes(label = paste(..eq.label.., ..rr.label.., sep = \"~~~\")), \n",
    "                        parse = TRUE) +    \n",
    "           geom_point(cex = 0.8, col=\"blue\") +\n",
    "           labs(title = \"Gestational Days vs. Birth Weights\", x = \"Gestational Days\", y = \"Birth Weight (Ounces)\") +\n",
    "           theme(plot.title = element_text(hjust = 0.5))\n",
    "             \n",
    "p"
   ]
  },
  {
   "cell_type": "code",
   "execution_count": 168,
   "metadata": {},
   "outputs": [
    {
     "data": {
      "text/html": [
       "<dl class=dl-horizontal>\n",
       "\t<dt>(Intercept)</dt>\n",
       "\t\t<dd>236.573504097498</dd>\n",
       "\t<dt>Birth.Weight</dt>\n",
       "\t\t<dd>0.355993313246708</dd>\n",
       "</dl>\n"
      ],
      "text/latex": [
       "\\begin{description*}\n",
       "\\item[(Intercept)] 236.573504097498\n",
       "\\item[Birth.Weight] 0.355993313246708\n",
       "\\end{description*}\n"
      ],
      "text/markdown": [
       "(Intercept)\n",
       ":   236.573504097498Birth.Weight\n",
       ":   0.355993313246708\n",
       "\n"
      ],
      "text/plain": [
       " (Intercept) Birth.Weight \n",
       " 236.5735041    0.3559933 "
      ]
     },
     "metadata": {},
     "output_type": "display_data"
    }
   ],
   "source": [
    "m <- lm(Gestational.Days ~ Birth.Weight, data = baby)\n",
    "coefficients(m)"
   ]
  },
  {
   "cell_type": "code",
   "execution_count": 169,
   "metadata": {},
   "outputs": [
    {
     "data": {
      "text/plain": [
       "\n",
       "Call:\n",
       "lm(formula = Gestational.Days ~ Birth.Weight, data = baby)\n",
       "\n",
       "Residuals:\n",
       "     Min       1Q   Median       3Q      Max \n",
       "-129.869   -6.649    0.063    7.467   72.639 \n",
       "\n",
       "Coefficients:\n",
       "             Estimate Std. Error t value Pr(>|t|)    \n",
       "(Intercept)  236.5735     2.8161   84.01   <2e-16 ***\n",
       "Birth.Weight   0.3560     0.0233   15.28   <2e-16 ***\n",
       "---\n",
       "Signif. codes:  0 '***' 0.001 '**' 0.01 '*' 0.05 '.' 0.1 ' ' 1\n",
       "\n",
       "Residual standard error: 14.63 on 1172 degrees of freedom\n",
       "Multiple R-squared:  0.1661,\tAdjusted R-squared:  0.1654 \n",
       "F-statistic: 233.4 on 1 and 1172 DF,  p-value: < 2.2e-16\n"
      ]
     },
     "metadata": {},
     "output_type": "display_data"
    }
   ],
   "source": [
    "summary(m)"
   ]
  },
  {
   "cell_type": "markdown",
   "metadata": {},
   "source": [
    "### 3.3 Bar Charts\n",
    "\n",
    "We can plot categorical variables using a bar chart using the `barplot()` function in R. "
   ]
  },
  {
   "cell_type": "code",
   "execution_count": 244,
   "metadata": {},
   "outputs": [
    {
     "data": {
      "text/html": [
       "<table>\n",
       "<thead><tr><th scope=col>Birth.Weight</th><th scope=col>Gestational.Days</th><th scope=col>Maternal.Age</th><th scope=col>Maternal.Height</th><th scope=col>Maternal.Pregnancy.Weight</th><th scope=col>Maternal.Smoker</th><th scope=col>category</th></tr></thead>\n",
       "<tbody>\n",
       "\t<tr><td>120   </td><td>284   </td><td>27    </td><td>62    </td><td>100   </td><td>False </td><td>Normal</td></tr>\n",
       "\t<tr><td>113   </td><td>282   </td><td>33    </td><td>64    </td><td>135   </td><td>False </td><td>Normal</td></tr>\n",
       "\t<tr><td>128   </td><td>279   </td><td>28    </td><td>64    </td><td>115   </td><td>True  </td><td>Normal</td></tr>\n",
       "\t<tr><td>108   </td><td>282   </td><td>23    </td><td>67    </td><td>125   </td><td>True  </td><td>Normal</td></tr>\n",
       "\t<tr><td>136   </td><td>286   </td><td>25    </td><td>62    </td><td> 93   </td><td>False </td><td>Normal</td></tr>\n",
       "\t<tr><td>138   </td><td>244   </td><td>33    </td><td>62    </td><td>178   </td><td>False </td><td>Normal</td></tr>\n",
       "</tbody>\n",
       "</table>\n"
      ],
      "text/latex": [
       "\\begin{tabular}{r|lllllll}\n",
       " Birth.Weight & Gestational.Days & Maternal.Age & Maternal.Height & Maternal.Pregnancy.Weight & Maternal.Smoker & category\\\\\n",
       "\\hline\n",
       "\t 120    & 284    & 27     & 62     & 100    & False  & Normal\\\\\n",
       "\t 113    & 282    & 33     & 64     & 135    & False  & Normal\\\\\n",
       "\t 128    & 279    & 28     & 64     & 115    & True   & Normal\\\\\n",
       "\t 108    & 282    & 23     & 67     & 125    & True   & Normal\\\\\n",
       "\t 136    & 286    & 25     & 62     &  93    & False  & Normal\\\\\n",
       "\t 138    & 244    & 33     & 62     & 178    & False  & Normal\\\\\n",
       "\\end{tabular}\n"
      ],
      "text/markdown": [
       "\n",
       "| Birth.Weight | Gestational.Days | Maternal.Age | Maternal.Height | Maternal.Pregnancy.Weight | Maternal.Smoker | category |\n",
       "|---|---|---|---|---|---|---|\n",
       "| 120    | 284    | 27     | 62     | 100    | False  | Normal |\n",
       "| 113    | 282    | 33     | 64     | 135    | False  | Normal |\n",
       "| 128    | 279    | 28     | 64     | 115    | True   | Normal |\n",
       "| 108    | 282    | 23     | 67     | 125    | True   | Normal |\n",
       "| 136    | 286    | 25     | 62     |  93    | False  | Normal |\n",
       "| 138    | 244    | 33     | 62     | 178    | False  | Normal |\n",
       "\n"
      ],
      "text/plain": [
       "  Birth.Weight Gestational.Days Maternal.Age Maternal.Height\n",
       "1 120          284              27           62             \n",
       "2 113          282              33           64             \n",
       "3 128          279              28           64             \n",
       "4 108          282              23           67             \n",
       "5 136          286              25           62             \n",
       "6 138          244              33           62             \n",
       "  Maternal.Pregnancy.Weight Maternal.Smoker category\n",
       "1 100                       False           Normal  \n",
       "2 135                       False           Normal  \n",
       "3 115                       True            Normal  \n",
       "4 125                       True            Normal  \n",
       "5  93                       False           Normal  \n",
       "6 178                       False           Normal  "
      ]
     },
     "metadata": {},
     "output_type": "display_data"
    }
   ],
   "source": [
    "bwt_avg <- mean(baby$Birth.Weight)\n",
    "# This is just for illustration\n",
    "baby$category <- cut(baby$Birth.Weight, \n",
    "                   breaks=c(-Inf, bwt_avg - 40, bwt_avg - 20, bwt_avg + 20, bwt_avg + 40, Inf), \n",
    "                   labels=c(\"Very Low\",\"Low\", \"Normal\", \"Heavy\",\"Very Heavy\"))\n",
    "head(baby)"
   ]
  },
  {
   "cell_type": "code",
   "execution_count": 222,
   "metadata": {},
   "outputs": [
    {
     "data": {
      "text/html": [
       "124"
      ],
      "text/latex": [
       "124"
      ],
      "text/markdown": [
       "124"
      ],
      "text/plain": [
       "[1] 124"
      ]
     },
     "metadata": {},
     "output_type": "display_data"
    }
   ],
   "source": [
    "nrow(baby[baby$category == 'Heavy',])"
   ]
  },
  {
   "cell_type": "code",
   "execution_count": 228,
   "metadata": {},
   "outputs": [
    {
     "data": {
      "text/plain": [
       "       \n",
       "        Very Low Low Normal Heavy Very Heavy\n",
       "  False       11  43    558    86         17\n",
       "  True        15  84    318    38          4"
      ]
     },
     "metadata": {},
     "output_type": "display_data"
    }
   ],
   "source": [
    "# Baby Weights category grouped if a mother was a smoker or not during pregnancy\n",
    "category_by_smoking <- table(baby$Maternal.Smoker, baby$category)\n",
    "category_by_smoking"
   ]
  },
  {
   "cell_type": "code",
   "execution_count": 259,
   "metadata": {},
   "outputs": [
    {
     "data": {
      "text/html": [
       "<table>\n",
       "<thead><tr><th scope=col>Birth.Weight</th><th scope=col>Gestational.Days</th><th scope=col>Maternal.Age</th><th scope=col>Maternal.Height</th><th scope=col>Maternal.Pregnancy.Weight</th><th scope=col>Maternal.Smoker</th><th scope=col>category</th><th scope=col>Smoker</th></tr></thead>\n",
       "<tbody>\n",
       "\t<tr><td>120   </td><td>284   </td><td>27    </td><td>62    </td><td>100   </td><td>False </td><td>Normal</td><td>No    </td></tr>\n",
       "\t<tr><td>113   </td><td>282   </td><td>33    </td><td>64    </td><td>135   </td><td>False </td><td>Normal</td><td>No    </td></tr>\n",
       "\t<tr><td>128   </td><td>279   </td><td>28    </td><td>64    </td><td>115   </td><td>True  </td><td>Normal</td><td>Yes   </td></tr>\n",
       "\t<tr><td>108   </td><td>282   </td><td>23    </td><td>67    </td><td>125   </td><td>True  </td><td>Normal</td><td>Yes   </td></tr>\n",
       "\t<tr><td>136   </td><td>286   </td><td>25    </td><td>62    </td><td> 93   </td><td>False </td><td>Normal</td><td>No    </td></tr>\n",
       "\t<tr><td>138   </td><td>244   </td><td>33    </td><td>62    </td><td>178   </td><td>False </td><td>Normal</td><td>No    </td></tr>\n",
       "</tbody>\n",
       "</table>\n"
      ],
      "text/latex": [
       "\\begin{tabular}{r|llllllll}\n",
       " Birth.Weight & Gestational.Days & Maternal.Age & Maternal.Height & Maternal.Pregnancy.Weight & Maternal.Smoker & category & Smoker\\\\\n",
       "\\hline\n",
       "\t 120    & 284    & 27     & 62     & 100    & False  & Normal & No    \\\\\n",
       "\t 113    & 282    & 33     & 64     & 135    & False  & Normal & No    \\\\\n",
       "\t 128    & 279    & 28     & 64     & 115    & True   & Normal & Yes   \\\\\n",
       "\t 108    & 282    & 23     & 67     & 125    & True   & Normal & Yes   \\\\\n",
       "\t 136    & 286    & 25     & 62     &  93    & False  & Normal & No    \\\\\n",
       "\t 138    & 244    & 33     & 62     & 178    & False  & Normal & No    \\\\\n",
       "\\end{tabular}\n"
      ],
      "text/markdown": [
       "\n",
       "| Birth.Weight | Gestational.Days | Maternal.Age | Maternal.Height | Maternal.Pregnancy.Weight | Maternal.Smoker | category | Smoker |\n",
       "|---|---|---|---|---|---|---|---|\n",
       "| 120    | 284    | 27     | 62     | 100    | False  | Normal | No     |\n",
       "| 113    | 282    | 33     | 64     | 135    | False  | Normal | No     |\n",
       "| 128    | 279    | 28     | 64     | 115    | True   | Normal | Yes    |\n",
       "| 108    | 282    | 23     | 67     | 125    | True   | Normal | Yes    |\n",
       "| 136    | 286    | 25     | 62     |  93    | False  | Normal | No     |\n",
       "| 138    | 244    | 33     | 62     | 178    | False  | Normal | No     |\n",
       "\n"
      ],
      "text/plain": [
       "  Birth.Weight Gestational.Days Maternal.Age Maternal.Height\n",
       "1 120          284              27           62             \n",
       "2 113          282              33           64             \n",
       "3 128          279              28           64             \n",
       "4 108          282              23           67             \n",
       "5 136          286              25           62             \n",
       "6 138          244              33           62             \n",
       "  Maternal.Pregnancy.Weight Maternal.Smoker category Smoker\n",
       "1 100                       False           Normal   No    \n",
       "2 135                       False           Normal   No    \n",
       "3 115                       True            Normal   Yes   \n",
       "4 125                       True            Normal   Yes   \n",
       "5  93                       False           Normal   No    \n",
       "6 178                       False           Normal   No    "
      ]
     },
     "metadata": {},
     "output_type": "display_data"
    }
   ],
   "source": [
    "baby$Smoker = ifelse(baby$Maternal.Smoker == \"True\", \"Yes\", \"No\")\n",
    "head(baby)"
   ]
  },
  {
   "cell_type": "code",
   "execution_count": 257,
   "metadata": {},
   "outputs": [
    {
     "data": {
      "text/html": [
       "FALSE"
      ],
      "text/latex": [
       "FALSE"
      ],
      "text/markdown": [
       "FALSE"
      ],
      "text/plain": [
       "[1] FALSE"
      ]
     },
     "metadata": {},
     "output_type": "display_data"
    }
   ],
   "source": [
    "is.logical(baby$Maternal.Smoker)"
   ]
  },
  {
   "cell_type": "code",
   "execution_count": 261,
   "metadata": {},
   "outputs": [
    {
     "data": {
      "text/plain": [
       "     \n",
       "      Very Low Low Normal Heavy Very Heavy\n",
       "  No        11  43    558    86         17\n",
       "  Yes       15  84    318    38          4"
      ]
     },
     "metadata": {},
     "output_type": "display_data"
    }
   ],
   "source": [
    "# Baby Weights category grouped if a mother was a smoker or not during pregnancy\n",
    "category_by_smoking <- table(baby$Smoker, baby$category)\n",
    "category_by_smoking"
   ]
  },
  {
   "cell_type": "code",
   "execution_count": 264,
   "metadata": {},
   "outputs": [
    {
     "data": {
      "image/png": "[encoded data removed]",
      "text/plain": [
       "Plot with title \"Birth Weight Grouped by the Status of Smoking\""
      ]
     },
     "metadata": {},
     "output_type": "display_data"
    }
   ],
   "source": [
    "# creating a bar chart\n",
    "barplot(category_by_smoking, \n",
    "        main=\"Birth Weight Grouped by the Status of Smoking\", # Title of the plot\n",
    "        xlab=\"Birth Weight Status\", # x axis label\n",
    "        ylab=\"Count\",\n",
    "        col=c(\"darkblue\",\"red\"), # specify color\n",
    "        legend = rownames(category_by_smoking), # legend\n",
    "        beside=TRUE # plot bars for male and female side by side\n",
    "       )"
   ]
  },
  {
   "cell_type": "markdown",
   "metadata": {},
   "source": [
    "### Reading `R` Documentation\n",
    "There are many more functions and methods you can call with `R` to do more cool things and expanding on what we went through in this notebook. One way to learn more about this is by looking through the `R` documentation. The documentation has all the different functions associated with `R`, and descriptions about what they do, how you use them, and some examples. \n",
    "\n",
    "Some tips for reading through the documentation:\n",
    "* For various functions there are LOTS of different parameters that you can call, usually there are only a few that are important (usually related to the data you are working with and specifying how to run the functions). There are some parameters that are optional and you do not have to specify (automatically R will use default settings for these functions). \n",
    "\n",
    "### Further Reading\n",
    "Here is a list of useful resources for R:\n",
    "* [R Documentation](https://www.rdocumentation.org/)\n",
    "* [R for Data Science Online Textbook](http://r4ds.had.co.nz/)\n",
    "* [Quick-R (Short R Tutorials)](https://www.statmethods.net/)\n",
    "* [Professor Gaston Sanchez's Tutorials](http://www.gastonsanchez.com/)"
   ]
  },
  {
   "cell_type": "code",
   "execution_count": 273,
   "metadata": {},
   "outputs": [
    {
     "data": {
      "text/html": [
       "2167500"
      ],
      "text/latex": [
       "2167500"
      ],
      "text/markdown": [
       "2167500"
      ],
      "text/plain": [
       "[1] 2167500"
      ]
     },
     "metadata": {},
     "output_type": "display_data"
    }
   ],
   "source": [
    "Monthly_Hours <- data.frame(Month = c('Jan', 'Feb', 'Mar', 'Apr', 'May', 'Jun', 'Jul', 'Aug', 'Sep', 'Oct', 'Nov', 'Dec'),\n",
    "                 Hours = c(126, 142, 179, 132, 179, 112, 172, 136, 100, 0, 0, 0))\n",
    "Non_Zero_Monthly_Hours <- Monthly_Hours[Monthly_Hours$Hours != 0,]\n",
    "Avg_Monthly_Salary <- mean(Non_Zero_Monthly_Hours$Hours) * 11 * (1 - 7.5/100)\n",
    "round(Avg_Monthly_Salary) * 1500"
   ]
  },
  {
   "cell_type": "code",
   "execution_count": null,
   "metadata": {},
   "outputs": [],
   "source": []
  }
 ],
 "metadata": {
  "kernelspec": {
   "display_name": "R",
   "language": "R",
   "name": "ir"
  },
  "language_info": {
   "codemirror_mode": "r",
   "file_extension": ".r",
   "mimetype": "text/x-r-source",
   "name": "R",
   "pygments_lexer": "r",
   "version": "3.6.1"
  }
 },
 "nbformat": 4,
 "nbformat_minor": 2
}
